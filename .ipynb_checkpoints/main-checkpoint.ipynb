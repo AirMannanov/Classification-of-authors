{
 "cells": [
  {
   "cell_type": "code",
   "execution_count": 41,
   "metadata": {},
   "outputs": [],
   "source": [
    "\"\"\"\n",
    "Необходимые библиотеки:\n",
    "    -numpy\n",
    "    -pandas\n",
    "    -matplotlib\n",
    "    -nltk\n",
    "    -pymorphy3\n",
    "    -sklearn\n",
    "    -gensim\n",
    "\"\"\""
   ]
  },
  {
   "cell_type": "code",
   "execution_count": null,
   "metadata": {},
   "outputs": [],
   "source": [
    "import numpy as np\n",
    "import pandas as pd\n",
    "import matplotlib.pyplot as plt\n",
    "\n",
    "from sklearn.model_selection import train_test_split\n",
    "from sklearn.ensemble import RandomForestClassifier\n",
    "from sklearn.preprocessing import LabelEncoder"
   ]
  },
  {
   "cell_type": "code",
   "execution_count": null,
   "metadata": {},
   "outputs": [],
   "source": [
    "\"\"\"\n",
    "Если Вы не скачивали модуль со стоп-словами, то раскомментируйте сточки кода в нижней ячейке\n",
    "\"\"\""
   ]
  },
  {
   "cell_type": "code",
   "execution_count": null,
   "metadata": {},
   "outputs": [],
   "source": [
    "# import nltk\n",
    "# nltk.download('stopwords')"
   ]
  },
  {
   "cell_type": "code",
   "execution_count": 42,
   "metadata": {},
   "outputs": [],
   "source": [
    "from preprocessing_texts import change_texts\n",
    "change_texts('authors', 'new_authors')"
   ]
  },
  {
   "cell_type": "code",
   "execution_count": 43,
   "metadata": {},
   "outputs": [],
   "source": [
    "from parts_of_speech import create_csv_parts_of_speech\n",
    "create_csv_parts_of_speech('new_authors', 'parts_of_speech.csv')"
   ]
  },
  {
   "cell_type": "code",
   "execution_count": 44,
   "metadata": {},
   "outputs": [],
   "source": [
    "dataset = pd.read_csv('parts_of_speech.csv')"
   ]
  },
  {
   "cell_type": "code",
   "execution_count": 45,
   "metadata": {},
   "outputs": [
    {
     "data": {
      "image/png": "[encoded data removed]",
      "text/plain": [
       "<Figure size 1000x600 with 1 Axes>"
      ]
     },
     "metadata": {},
     "output_type": "display_data"
    }
   ],
   "source": [
    "plt.figure(figsize=(10, 6))\n",
    "plt.suptitle('Авторы')\n",
    "width = 0.17\n",
    "ids = np.arange(1, 6)\n",
    "\n",
    "for i, texts in enumerate(dataset.groupby(['author'])):\n",
    "    author, data = texts\n",
    "    data = data.iloc[:, :-1]\n",
    "    data = np.array(data[['NOUN', 'VERB', 'ADJF', 'ADVB', 'GRND']])\n",
    "    data = np.mean(data, axis=0)\n",
    "    \n",
    "    if i == 0:\n",
    "        plt.bar(ids - 1.5*width, data, width, label=author)\n",
    "    elif i == 1:\n",
    "        plt.bar(ids - 0.5*width, data, width, label=author)\n",
    "    elif i == 2:\n",
    "        plt.bar(ids + 0.5*width, data, width, label=author)\n",
    "    else:\n",
    "        plt.bar(ids + 1.5*width, data, width, label=author)\n",
    "        \n",
    "plt.grid(axis='y', linestyle='--')\n",
    "plt.xticks(ids, ['Существительные', 'глагол', 'прилагательное', 'наречие', 'деепричастие'])\n",
    "plt.legend()\n",
    "plt.show()"
   ]
  },
  {
   "cell_type": "code",
   "execution_count": 46,
   "metadata": {},
   "outputs": [],
   "source": [
    "def testing_classification_by_parts_of_speech(dataset):\n",
    "    labelencoder = LabelEncoder()\n",
    "    \n",
    "    X = np.array(dataset.iloc[:, :-1])\n",
    "    y = labelencoder.fit_transform(dataset.iloc[:, -1]) \n",
    "\n",
    "    X_train, X_test, y_train, y_test = train_test_split(X, y , train_size=0.75)\n",
    "\n",
    "    rforest = RandomForestClassifier(n_estimators=100).fit(X_train, y_train)\n",
    "    y_pred = rforest.predict(X_test)\n",
    "    \n",
    "    accuracy = np.sum(y_test == y_pred) / len(y_test)\n",
    "    \n",
    "    wrong_authors = {\n",
    "        'Astafyev': [0, 0],\n",
    "        'Sholokhov': [0, 0],\n",
    "        'Shukshin': [0, 0],\n",
    "        'Platonov': [0, 0]\n",
    "    }\n",
    "    authors_pred = labelencoder.inverse_transform(y_pred)\n",
    "    authors_test = labelencoder.inverse_transform(y_test)\n",
    "    \n",
    "    for i in range(len(authors_test)):\n",
    "        if authors_test[i] != authors_pred[i]:\n",
    "            wrong_authors[authors_test[i]][0] += 1\n",
    "        wrong_authors[authors_test[i]][1] += 1\n",
    "    \n",
    "    return accuracy, wrong_authors"
   ]
  },
  {
   "cell_type": "code",
   "execution_count": 47,
   "metadata": {},
   "outputs": [
    {
     "name": "stdout",
     "output_type": "stream",
     "text": [
      "0.9375\n",
      "1.0\n",
      "0.9375\n",
      "0.8125\n",
      "0.75\n",
      "0.9375\n",
      "0.875\n",
      "0.8125\n",
      "0.9375\n",
      "1.0\n",
      "0.8125\n",
      "0.9375\n",
      "0.875\n",
      "0.9375\n",
      "0.9375\n",
      "1.0\n",
      "0.9375\n",
      "0.9375\n",
      "0.875\n",
      "1.0\n"
     ]
    }
   ],
   "source": [
    "results = {\n",
    "    'accuracy': [],\n",
    "    'Astafyev': np.zeros(2),\n",
    "    'Sholokhov': np.zeros(2),\n",
    "    'Shukshin': np.zeros(2),\n",
    "    'Platonov': np.zeros(2)\n",
    "}\n",
    "\n",
    "for i in range(20):\n",
    "    accuracy, wrong_result = testing_classification_by_parts_of_speech(dataset)\n",
    "    print(accuracy)\n",
    "    results['accuracy'].append(accuracy)\n",
    "    for author in wrong_result:\n",
    "        results[author] += np.array(wrong_result[author])"
   ]
  },
  {
   "cell_type": "code",
   "execution_count": 48,
   "metadata": {},
   "outputs": [
    {
     "data": {
      "text/plain": [
       "{'accuracy': 0.9125,\n",
       " 'Astafyev': array([10., 99.]),\n",
       " 'Sholokhov': array([ 11., 108.]),\n",
       " 'Shukshin': array([ 0., 46.]),\n",
       " 'Platonov': array([ 7., 67.])}"
      ]
     },
     "execution_count": 48,
     "metadata": {},
     "output_type": "execute_result"
    }
   ],
   "source": [
    "results['accuracy'] = np.mean(results['accuracy'])\n",
    "results"
   ]
  },
  {
   "cell_type": "code",
   "execution_count": 49,
   "metadata": {},
   "outputs": [
    {
     "name": "stdout",
     "output_type": "stream",
     "text": [
      "'Поднятная целина' М.А.Шолохов предикт: Sholokhov\n"
     ]
    }
   ],
   "source": [
    "from user_programs import predict_author_by_parts_of_speech\n",
    "\n",
    "predict = predict_author_by_parts_of_speech('testing_1.txt')\n",
    "print(\"'Поднятная целина' М.А.Шолохов предикт:\", predict)"
   ]
  },
  {
   "cell_type": "code",
   "execution_count": 50,
   "metadata": {},
   "outputs": [
    {
     "name": "stdout",
     "output_type": "stream",
     "text": [
      "'Жеребёнок' М.А.Шолохов предикт: Sholokhov\n"
     ]
    }
   ],
   "source": [
    "predict = predict_author_by_parts_of_speech('testing_2.txt')\n",
    "print(\"'Жеребёнок' М.А.Шолохов предикт:\", predict)"
   ]
  },
  {
   "cell_type": "code",
   "execution_count": 51,
   "metadata": {},
   "outputs": [
    {
     "name": "stdout",
     "output_type": "stream",
     "text": [
      "'Ваш сын и брат' В.М.Шукшин предикт: Shukshin\n"
     ]
    }
   ],
   "source": [
    "predict = predict_author_by_parts_of_speech('testing_3.txt')\n",
    "print(\"'Ваш сын и брат' В.М.Шукшин предикт:\", predict)"
   ]
  },
  {
   "cell_type": "code",
   "execution_count": null,
   "metadata": {},
   "outputs": [],
   "source": []
  },
  {
   "cell_type": "code",
   "execution_count": 52,
   "metadata": {},
   "outputs": [],
   "source": [
    "from collections import Counter\n",
    "from bow_of_words import get_dataset, text_to_bow"
   ]
  },
  {
   "cell_type": "code",
   "execution_count": 53,
   "metadata": {},
   "outputs": [
    {
     "name": "stdout",
     "output_type": "stream",
     "text": [
      "Суммарное количество слов во всех текстах:  118974\n",
      "Самые популярные слова среди всех текстов:  \n",
      " ['это', 'степан', 'сказал', 'тебе', 'бабушка', 'григорий', 'время', 'спросил', 'человек', 'нам', 'глаза', 'люди', 'голову', 'жизни', 'руки', 'копенкин', 'дед', 'казаки', 'дванов', 'людей', 'пока', 'дело', 'чепурный', 'лишь', 'жизнь', 'ноги', 'долго', 'своей', 'пошел', 'казаков', 'весь', 'день', 'что-то', 'лицо', 'стал', 'всем', 'глазами', 'говорил', 'возле', 'иван', 'мог', 'сразу', 'руку', 'человека', 'знал', 'своего', 'нем', 'хотел', 'снова', 'дома', 'скоро', 'шел', 'словно', 'рукой', 'товарищ', 'сердце', 'мать', 'нету', 'головой', 'жить', 'голос', 'дядя', 'ночь', 'дальше', 'собой', 'стало', 'видел', 'глаз', 'знаю', 'чиклин', 'землю', 'начал', 'вместе', 'коня', 'вон', 'видно', 'оно', 'своих', 'думал', 'стоял', 'сторону', 'санька', 'ко', 'свое', 'отец', 'руками', 'те', 'хотя', 'который', 'воду', 'пусть', 'друг', 'фрол', 'вышел', 'давно', 'одной', 'тихо', 'свои', 'среди', 'ответил']\n"
     ]
    }
   ],
   "source": [
    "texts, authors = get_dataset('new_authors') \n",
    "counts = Counter(' '.join(texts).split())\n",
    "bow_vocabulary = [key for key, val in counts.most_common(100)]\n",
    "print(\"Суммарное количество слов во всех текстах: \", len(counts))\n",
    "print(\"Самые популярные слова среди всех текстов: \", '\\n', bow_vocabulary)"
   ]
  },
  {
   "cell_type": "code",
   "execution_count": 54,
   "metadata": {},
   "outputs": [],
   "source": [
    "accuracy = []\n",
    "k_values = [1000, 10000, 30000, 50000, 80000, 110000]\n",
    "for k in k_values:\n",
    "    bow_vocabulary = [key for key, val in counts.most_common(k)]\n",
    "    X_bow = np.array([text_to_bow(text, bow_vocabulary) for text in texts])\n",
    "    \n",
    "    labelencoder = LabelEncoder()\n",
    "    y = labelencoder.fit_transform(authors)\n",
    "\n",
    "    X_train_bow, X_test_bow, y_train_bow, y_test_bow = train_test_split(X_bow, y, train_size=0.75)\n",
    "    \n",
    "    rf_classifier = RandomForestClassifier(n_estimators=100).fit(X_train_bow, y_train_bow)\n",
    "    \n",
    "    y_pred_bow = rf_classifier.predict(X_test_bow)\n",
    "    \n",
    "    accuracy.append(np.sum(y_pred_bow == y_test_bow) / len(y_test_bow))"
   ]
  },
  {
   "cell_type": "code",
   "execution_count": 55,
   "metadata": {},
   "outputs": [
    {
     "data": {
      "image/png": "[encoded data removed]",
      "text/plain": [
       "<Figure size 1000x600 with 1 Axes>"
      ]
     },
     "metadata": {},
     "output_type": "display_data"
    }
   ],
   "source": [
    "plt.figure(figsize=(10, 6))\n",
    "plt.plot(k_values, accuracy)\n",
    "plt.ylabel('Точность')\n",
    "plt.xlabel('Количество слов в мешкe')\n",
    "plt.show()"
   ]
  },
  {
   "cell_type": "code",
   "execution_count": 56,
   "metadata": {},
   "outputs": [
    {
     "name": "stdout",
     "output_type": "stream",
     "text": [
      "'Поднятная целина' М.А.Шолохов предикт: Shukshin\n"
     ]
    }
   ],
   "source": [
    "from user_programs import predict_author_by_bow_of_words\n",
    "\n",
    "predict = predict_author_by_bow_of_words('testing_1.txt')\n",
    "print(\"'Поднятная целина' М.А.Шолохов предикт:\", predict)"
   ]
  },
  {
   "cell_type": "code",
   "execution_count": 57,
   "metadata": {},
   "outputs": [
    {
     "name": "stdout",
     "output_type": "stream",
     "text": [
      "'Жеребёнок' М.А.Шолохов предикт: Shukshin\n"
     ]
    }
   ],
   "source": [
    "predict = predict_author_by_bow_of_words('testing_2.txt')\n",
    "print(\"'Жеребёнок' М.А.Шолохов предикт:\", predict)"
   ]
  },
  {
   "cell_type": "code",
   "execution_count": 58,
   "metadata": {},
   "outputs": [
    {
     "name": "stdout",
     "output_type": "stream",
     "text": [
      "'Ваш сын и брат' В.М.Шукшин предикт: Shukshin\n"
     ]
    }
   ],
   "source": [
    "predict = predict_author_by_bow_of_words('testing_3.txt')\n",
    "print(\"'Ваш сын и брат' В.М.Шукшин предикт:\", predict)"
   ]
  },
  {
   "cell_type": "code",
   "execution_count": null,
   "metadata": {},
   "outputs": [],
   "source": []
  },
  {
   "cell_type": "code",
   "execution_count": 59,
   "metadata": {},
   "outputs": [],
   "source": [
    "from sklearn.feature_extraction.text import TfidfVectorizer"
   ]
  },
  {
   "cell_type": "code",
   "execution_count": 60,
   "metadata": {},
   "outputs": [],
   "source": [
    "def testing_classification_by_tfidf(texts, authors):\n",
    "    labelencoder = LabelEncoder()\n",
    "    vectorizer = TfidfVectorizer()\n",
    "\n",
    "    X_tfidf = vectorizer.fit_transform(texts)\n",
    "    y = labelencoder.fit_transform(authors)\n",
    "\n",
    "    X_train_tfidf, X_test_tfidf, y_train, y_test = train_test_split(X_tfidf, y, train_size=0.75)\n",
    "    \n",
    "    rforest = RandomForestClassifier(n_estimators=200).fit(X_train_tfidf, y_train)\n",
    "    y_pred = rforest.predict(X_test_tfidf)\n",
    "    \n",
    "    accuracy = np.sum(y_test == y_pred) / len(y_test)\n",
    "    \n",
    "    wrong_authors = {\n",
    "        'Astafyev': [0, 0],\n",
    "        'Sholokhov': [0, 0],\n",
    "        'Shukshin': [0, 0],\n",
    "        'Platonov': [0, 0]\n",
    "    }\n",
    "    authors_pred = labelencoder.inverse_transform(y_pred)\n",
    "    authors_test = labelencoder.inverse_transform(y_test)\n",
    "    \n",
    "    for i in range(len(authors_test)):\n",
    "        if authors_test[i] != authors_pred[i]:\n",
    "            wrong_authors[authors_test[i]][0] += 1\n",
    "        wrong_authors[authors_test[i]][1] += 1\n",
    "    \n",
    "    return accuracy, wrong_authors"
   ]
  },
  {
   "cell_type": "code",
   "execution_count": 61,
   "metadata": {},
   "outputs": [
    {
     "name": "stdout",
     "output_type": "stream",
     "text": [
      "0.875\n",
      "1.0\n",
      "0.9375\n",
      "0.875\n",
      "1.0\n",
      "0.875\n",
      "0.75\n",
      "1.0\n",
      "0.9375\n",
      "1.0\n",
      "1.0\n",
      "0.9375\n",
      "0.875\n",
      "1.0\n",
      "1.0\n",
      "1.0\n",
      "0.875\n",
      "0.9375\n",
      "0.875\n",
      "0.875\n"
     ]
    }
   ],
   "source": [
    "results = {\n",
    "    'accuracy': [],\n",
    "    'Astafyev': np.zeros(2),\n",
    "    'Sholokhov': np.zeros(2),\n",
    "    'Shukshin': np.zeros(2),\n",
    "    'Platonov': np.zeros(2)\n",
    "}\n",
    "\n",
    "for i in range(20):\n",
    "    accuracy, wrong_result = testing_classification_by_tfidf(texts, authors)\n",
    "    print(accuracy)\n",
    "    results['accuracy'].append(accuracy)\n",
    "    for author in wrong_result:\n",
    "        results[author] += np.array(wrong_result[author])"
   ]
  },
  {
   "cell_type": "code",
   "execution_count": 62,
   "metadata": {},
   "outputs": [
    {
     "data": {
      "text/plain": [
       "{'accuracy': 0.93125,\n",
       " 'Astafyev': array([  2., 109.]),\n",
       " 'Sholokhov': array([  7., 104.]),\n",
       " 'Shukshin': array([ 3., 46.]),\n",
       " 'Platonov': array([10., 61.])}"
      ]
     },
     "execution_count": 62,
     "metadata": {},
     "output_type": "execute_result"
    }
   ],
   "source": [
    "results['accuracy'] = np.mean(results['accuracy'])\n",
    "results"
   ]
  },
  {
   "cell_type": "code",
   "execution_count": 63,
   "metadata": {},
   "outputs": [
    {
     "name": "stdout",
     "output_type": "stream",
     "text": [
      "'Поднятная целина' М.А.Шолохов предикт: Shukshin\n"
     ]
    }
   ],
   "source": [
    "from user_programs import predict_author_by_tfidf\n",
    "\n",
    "predict = predict_author_by_tfidf('testing_1.txt')\n",
    "print(\"'Поднятная целина' М.А.Шолохов предикт:\", predict)"
   ]
  },
  {
   "cell_type": "code",
   "execution_count": 64,
   "metadata": {},
   "outputs": [
    {
     "name": "stdout",
     "output_type": "stream",
     "text": [
      "'Жеребёнок' М.А.Шолохов предикт: Sholokhov\n"
     ]
    }
   ],
   "source": [
    "predict = predict_author_by_tfidf('testing_2.txt')\n",
    "print(\"'Жеребёнок' М.А.Шолохов предикт:\", predict)"
   ]
  },
  {
   "cell_type": "code",
   "execution_count": 65,
   "metadata": {},
   "outputs": [
    {
     "name": "stdout",
     "output_type": "stream",
     "text": [
      "'Ваш сын и брат' В.М.Шукшин предикт: Shukshin\n"
     ]
    }
   ],
   "source": [
    "predict = predict_author_by_tfidf('testing_3.txt')\n",
    "print(\"'Ваш сын и брат' В.М.Шукшин предикт:\", predict)"
   ]
  },
  {
   "cell_type": "code",
   "execution_count": null,
   "metadata": {},
   "outputs": [],
   "source": []
  },
  {
   "cell_type": "code",
   "execution_count": 66,
   "metadata": {},
   "outputs": [],
   "source": [
    "from gensim.models import Word2Vec\n",
    "\n",
    "tokenized_texts = [text.split() for text in texts]\n",
    "w2c = Word2Vec(sentences=tokenized_texts, vector_size=100, window=5, min_count=1, workers=4)"
   ]
  },
  {
   "cell_type": "code",
   "execution_count": 67,
   "metadata": {},
   "outputs": [],
   "source": [
    "text_embeddings = []\n",
    "\n",
    "for tokens in tokenized_texts:\n",
    "    valid_tokens = [token for token in tokens if token in w2c.wv]\n",
    "    if valid_tokens:\n",
    "        text_embedding = w2c.wv[valid_tokens].mean(axis=0)\n",
    "        text_embeddings.append(text_embedding)\n",
    "    else:\n",
    "        text_embeddings.append([0.0] * w2c.vector_size)"
   ]
  },
  {
   "cell_type": "code",
   "execution_count": 68,
   "metadata": {},
   "outputs": [],
   "source": [
    "def testing_classification_by_word2vec(X, authors):\n",
    "    labelencoder = LabelEncoder()\n",
    "    y = labelencoder.fit_transform(authors)\n",
    "    \n",
    "    X_train_tfidf, X_test_tfidf, y_train, y_test = train_test_split(X, y, train_size=0.75)\n",
    "    \n",
    "    rforest = RandomForestClassifier(n_estimators=200).fit(X_train_tfidf, y_train)\n",
    "    y_pred = rforest.predict(X_test_tfidf)\n",
    "    \n",
    "    accuracy = np.sum(y_test == y_pred) / len(y_test)\n",
    "    \n",
    "    wrong_authors = {\n",
    "        'Astafyev': [0, 0],\n",
    "        'Sholokhov': [0, 0],\n",
    "        'Shukshin': [0, 0],\n",
    "        'Platonov': [0, 0]\n",
    "    }\n",
    "    authors_pred = labelencoder.inverse_transform(y_pred)\n",
    "    authors_test = labelencoder.inverse_transform(y_test)\n",
    "    \n",
    "    for i in range(len(authors_test)):\n",
    "        if authors_test[i] != authors_pred[i]:\n",
    "            wrong_authors[authors_test[i]][0] += 1\n",
    "        wrong_authors[authors_test[i]][1] += 1\n",
    "    \n",
    "    return accuracy, wrong_authors"
   ]
  },
  {
   "cell_type": "code",
   "execution_count": 69,
   "metadata": {
    "scrolled": true
   },
   "outputs": [
    {
     "name": "stdout",
     "output_type": "stream",
     "text": [
      "0.6875\n",
      "0.625\n",
      "0.5625\n",
      "0.625\n",
      "0.9375\n",
      "0.5625\n",
      "0.75\n",
      "0.8125\n",
      "0.9375\n",
      "0.5625\n",
      "0.5625\n",
      "0.5625\n",
      "0.6875\n",
      "0.875\n",
      "0.5625\n",
      "0.625\n",
      "0.4375\n",
      "0.8125\n",
      "0.5625\n",
      "0.625\n"
     ]
    }
   ],
   "source": [
    "results = {\n",
    "    'accuracy': [],\n",
    "    'Astafyev': np.zeros(2),\n",
    "    'Sholokhov': np.zeros(2),\n",
    "    'Shukshin': np.zeros(2),\n",
    "    'Platonov': np.zeros(2)\n",
    "}\n",
    "\n",
    "for i in range(20):\n",
    "    accuracy, wrong_result = testing_classification_by_word2vec(text_embeddings, authors)\n",
    "    print(accuracy)\n",
    "    results['accuracy'].append(accuracy)\n",
    "    for author in wrong_result:\n",
    "        results[author] += np.array(wrong_result[author])"
   ]
  },
  {
   "cell_type": "code",
   "execution_count": 70,
   "metadata": {},
   "outputs": [
    {
     "data": {
      "text/plain": [
       "{'accuracy': 0.66875,\n",
       " 'Astafyev': array([ 36., 117.]),\n",
       " 'Sholokhov': array([ 24., 107.]),\n",
       " 'Shukshin': array([21., 43.]),\n",
       " 'Platonov': array([25., 53.])}"
      ]
     },
     "execution_count": 70,
     "metadata": {},
     "output_type": "execute_result"
    }
   ],
   "source": [
    "results['accuracy'] = np.mean(results['accuracy'])\n",
    "results"
   ]
  },
  {
   "cell_type": "code",
   "execution_count": 83,
   "metadata": {},
   "outputs": [
    {
     "name": "stdout",
     "output_type": "stream",
     "text": [
      "'Поднятная целина' М.А.Шолохов предикт: Sholokhov\n"
     ]
    }
   ],
   "source": [
    "from user_programs import predict_author_by_word2vec\n",
    "\n",
    "predict = predict_author_by_word2vec('testing_1.txt')\n",
    "print(\"'Поднятная целина' М.А.Шолохов предикт:\", predict)"
   ]
  },
  {
   "cell_type": "code",
   "execution_count": 84,
   "metadata": {},
   "outputs": [
    {
     "name": "stdout",
     "output_type": "stream",
     "text": [
      "'Жеребёнок' М.А.Шолохов предикт: Astafyev\n"
     ]
    }
   ],
   "source": [
    "predict = predict_author_by_word2vec('testing_2.txt')\n",
    "print(\"'Жеребёнок' М.А.Шолохов предикт:\", predict)"
   ]
  },
  {
   "cell_type": "code",
   "execution_count": 85,
   "metadata": {},
   "outputs": [
    {
     "name": "stdout",
     "output_type": "stream",
     "text": [
      "'Ваш сын и брат' В.М.Шукшин предикт: Platonov\n"
     ]
    }
   ],
   "source": [
    "predict = predict_author_by_word2vec('testing_3.txt')\n",
    "print(\"'Ваш сын и брат' В.М.Шукшин предикт:\", predict)"
   ]
  },
  {
   "cell_type": "code",
   "execution_count": null,
   "metadata": {},
   "outputs": [],
   "source": []
  }
 ],
 "metadata": {
  "kernelspec": {
   "display_name": "Python 3 (ipykernel)",
   "language": "python",
   "name": "python3"
  },
  "language_info": {
   "codemirror_mode": {
    "name": "ipython",
    "version": 3
   },
   "file_extension": ".py",
   "mimetype": "text/x-python",
   "name": "python",
   "nbconvert_exporter": "python",
   "pygments_lexer": "ipython3",
   "version": "3.9.6"
  }
 },
 "nbformat": 4,
 "nbformat_minor": 2
}
